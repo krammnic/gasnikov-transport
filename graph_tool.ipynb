{
  "nbformat": 4,
  "nbformat_minor": 0,
  "metadata": {
    "colab": {
      "provenance": []
    },
    "kernelspec": {
      "name": "python3",
      "display_name": "Python 3"
    },
    "language_info": {
      "name": "python"
    }
  },
  "cells": [
    {
      "cell_type": "code",
      "execution_count": null,
      "metadata": {
        "id": "Cg1VAqqyPGVb"
      },
      "outputs": [],
      "source": [
        "# install graph_tool\n",
        "!echo \"deb http://downloads.skewed.de/apt focal main\" >> /etc/apt/sources.list\n",
        "!apt-key adv --keyserver keyserver.ubuntu.com --recv-key 612DEFB798507F25\n",
        "!apt-get update\n",
        "!apt-get install python3-graph-tool python3-matplotlib python3-cairo\n",
        "\n",
        "\n",
        "!apt purge python3-cairo\n",
        "!apt install libcairo2-dev pkg-config python3-dev\n",
        "!pip install --force-reinstall pycairo\n",
        "!pip install zstandard\n"
      ]
    },
    {
      "cell_type": "code",
      "source": [
        "from graph_tool import *\n",
        "\n",
        "\n",
        "graph = Graph()"
      ],
      "metadata": {
        "id": "z3M4E3WcPJZn"
      },
      "execution_count": null,
      "outputs": []
    }
  ]
}